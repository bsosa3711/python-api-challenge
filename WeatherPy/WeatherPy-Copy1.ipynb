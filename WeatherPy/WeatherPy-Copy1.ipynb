{
 "cells": [
  {
   "cell_type": "markdown",
   "metadata": {},
   "source": [
    "# WeatherPy\n",
    "----\n",
    "\n",
    "#### Note\n",
    "* Instructions have been included for each segment. You do not have to follow them exactly, but they are included to help you think through the steps."
   ]
  },
  {
   "cell_type": "code",
   "execution_count": 11,
   "metadata": {
    "scrolled": true
   },
   "outputs": [],
   "source": [
    "# Dependencies and Setup\n",
    "import matplotlib.pyplot as plt\n",
    "import pandas as pd\n",
    "import numpy as np\n",
    "import requests\n",
    "import time\n",
    "from scipy.stats import linregress\n",
    "\n",
    "\n",
    "# Import API key\n",
    "from api_keys import weather_api_key\n",
    "\n",
    "# Incorporated citipy to determine city based on latitude and longitude\n",
    "from citipy import citipy\n",
    "\n",
    "# Output File (CSV)\n",
    "output_data_file = \"output_data/cities.csv\"\n",
    "\n",
    "# Range of latitudes and longitudes\n",
    "lat_range = (-90, 90)\n",
    "lng_range = (-180, 180)"
   ]
  },
  {
   "cell_type": "markdown",
   "metadata": {},
   "source": [
    "## Generate Cities List"
   ]
  },
  {
   "cell_type": "code",
   "execution_count": 28,
   "metadata": {},
   "outputs": [
    {
     "data": {
      "text/plain": [
       "625"
      ]
     },
     "execution_count": 28,
     "metadata": {},
     "output_type": "execute_result"
    }
   ],
   "source": [
    "# List for holding lat_lngs and cities\n",
    "lat_lngs = []\n",
    "cities = []\n",
    "\n",
    "# Create a set of random lat and lng combinations\n",
    "lats = np.random.uniform(lat_range[0], lat_range[1], size=1500)\n",
    "lngs = np.random.uniform(lng_range[0], lng_range[1], size=1500)\n",
    "lat_lngs = zip(lats, lngs)\n",
    "\n",
    "# Identify nearest city for each lat, lng combination\n",
    "for lat_lng in lat_lngs:\n",
    "    city = citipy.nearest_city(lat_lng[0], lat_lng[1]).city_name\n",
    "    \n",
    "    # If the city is unique, then add it to a our cities list\n",
    "    if city not in cities:\n",
    "        cities.append(city)\n",
    "\n",
    "# Print the city count to confirm sufficient count\n",
    "len(cities)"
   ]
  },
  {
   "cell_type": "markdown",
   "metadata": {},
   "source": [
    "### Perform API Calls\n",
    "* Perform a weather check on each city using a series of successive API calls.\n",
    "* Include a print log of each city as it'sbeing processed (with the city number and city name).\n"
   ]
  },
  {
   "cell_type": "code",
   "execution_count": 29,
   "metadata": {
    "scrolled": true
   },
   "outputs": [
    {
     "name": "stdout",
     "output_type": "stream",
     "text": [
      "Beginning Data Retrieval\n",
      "-----------------------------\n",
      "Processing Record 1 | mana\n",
      "Processing Record 2 | barrow\n",
      "Processing Record 3 | cape town\n",
      "Processing Record 4 | atasu\n",
      "Processing Record 5 | vaini\n",
      "Processing Record 6 | douentza\n",
      "Processing Record 7 | rikitea\n",
      "Processing Record 8 | kodiak\n",
      "Processing Record 9 | mar del plata\n",
      "Processing Record 10 | constitucion\n",
      "Processing Record 11 | bubaque\n",
      "Processing Record 12 | veraval\n",
      "Processing Record 13 | souillac\n",
      "Processing Record 14 | lorengau\n",
      "Processing Record 15 | parkes\n",
      "Processing Record 16 | bredasdorp\n",
      "Processing Record 17 | tiksi\n",
      "Processing Record 18 | punta arenas\n",
      "Processing Record 19 | coquimbo\n",
      "Processing Record 20 | busselton\n",
      "Processing Record 21 | kapaa\n",
      "Processing Record 22 | torbay\n",
      "Processing Record 23 | gornyy\n",
      "Processing Record 24 | pochutla\n",
      "Processing Record 25 | lavrentiya\n",
      "Processing Record 26 | atuona\n",
      "Processing Record 27 | arraial do cabo\n",
      "Processing Record 28 | college\n",
      "Processing Record 29 | tavrichanka\n",
      "Processing Record 30 | albany\n",
      "City not found. Skipping...\n",
      "Processing Record 31 | kodinar\n",
      "Processing Record 32 | dingle\n",
      "Processing Record 33 | longyearbyen\n",
      "Processing Record 34 | khatanga\n",
      "Processing Record 35 | kenai\n",
      "Processing Record 36 | bandarbeyla\n",
      "Processing Record 37 | cherskiy\n",
      "Processing Record 38 | dharchula\n",
      "Processing Record 39 | taldan\n",
      "Processing Record 40 | ostrovnoy\n",
      "Processing Record 41 | ariquemes\n",
      "Processing Record 42 | kahului\n",
      "Processing Record 43 | asau\n",
      "Processing Record 44 | iqaluit\n",
      "Processing Record 45 | hermanus\n",
      "Processing Record 46 | berlevag\n",
      "Processing Record 47 | ilulissat\n",
      "Processing Record 48 | ulladulla\n",
      "Processing Record 49 | port blair\n",
      "City not found. Skipping...\n",
      "Processing Record 50 | nanortalik\n",
      "Processing Record 51 | port alfred\n",
      "Processing Record 52 | maceio\n",
      "Processing Record 53 | pevek\n",
      "Processing Record 54 | avarua\n",
      "Processing Record 55 | butaritari\n",
      "Processing Record 56 | karaton\n",
      "Processing Record 57 | pemangkat\n",
      "Processing Record 58 | makakilo city\n",
      "Processing Record 59 | roebourne\n",
      "Processing Record 60 | ushuaia\n",
      "Processing Record 61 | kailua\n",
      "Processing Record 62 | hasaki\n",
      "Processing Record 63 | nicoya\n",
      "Processing Record 64 | matamoros\n",
      "Processing Record 65 | hilo\n",
      "Processing Record 66 | avera\n",
      "Processing Record 67 | norman wells\n",
      "Processing Record 68 | kudat\n",
      "Processing Record 69 | baykit\n",
      "Processing Record 70 | hobart\n",
      "Processing Record 71 | chokurdakh\n",
      "Processing Record 72 | georgetown\n",
      "Processing Record 73 | coahuayana\n",
      "Processing Record 74 | miles city\n",
      "Processing Record 75 | mataura\n",
      "Processing Record 76 | bethel\n",
      "Processing Record 77 | aklavik\n",
      "Processing Record 78 | surt\n",
      "Processing Record 79 | bluff\n",
      "City not found. Skipping...\n",
      "Processing Record 80 | gasa\n",
      "Processing Record 81 | narsaq\n",
      "Processing Record 82 | fengrun\n",
      "Processing Record 83 | cabo san lucas\n",
      "Processing Record 84 | whitehorse\n",
      "Processing Record 85 | strezhevoy\n",
      "Processing Record 86 | tigil\n",
      "Processing Record 87 | alexandria\n",
      "Processing Record 88 | warkworth\n",
      "Processing Record 89 | kiama\n",
      "Processing Record 90 | mantua\n",
      "Processing Record 91 | jamestown\n",
      "Processing Record 92 | fershampenuaz\n",
      "Processing Record 93 | zelenogorskiy\n",
      "Processing Record 94 | poum\n",
      "Processing Record 95 | vila velha\n",
      "Processing Record 96 | new norfolk\n",
      "Processing Record 97 | lata\n",
      "Processing Record 98 | kruisfontein\n",
      "Processing Record 99 | qaanaaq\n",
      "Processing Record 100 | nhulunbuy\n",
      "Processing Record 101 | papa\n",
      "Processing Record 102 | bud\n",
      "Processing Record 103 | andrews\n",
      "City not found. Skipping...\n",
      "Processing Record 104 | san cristobal\n",
      "Processing Record 105 | penukonda\n",
      "Processing Record 106 | ponta do sol\n",
      "Processing Record 107 | durban\n",
      "Processing Record 108 | lebu\n",
      "Processing Record 109 | nikolskoye\n",
      "City not found. Skipping...\n",
      "Processing Record 110 | teya\n",
      "Processing Record 111 | salalah\n",
      "Processing Record 112 | alekseyevsk\n",
      "Processing Record 113 | clyde\n",
      "Processing Record 114 | ribeira grande\n",
      "Processing Record 115 | luderitz\n",
      "Processing Record 116 | port-gentil\n",
      "Processing Record 117 | saint-felicien\n",
      "Processing Record 118 | diedorf\n",
      "Processing Record 119 | yerbogachen\n",
      "Processing Record 120 | east london\n",
      "Processing Record 121 | carnarvon\n",
      "Processing Record 122 | saint george\n",
      "Processing Record 123 | edd\n",
      "Processing Record 124 | erenhot\n",
      "City not found. Skipping...\n",
      "Processing Record 125 | sulangan\n",
      "Processing Record 126 | chioggia\n",
      "Processing Record 127 | saint-philippe\n",
      "Processing Record 128 | cidreira\n",
      "Processing Record 129 | geraldton\n",
      "Processing Record 130 | tuatapere\n",
      "Processing Record 131 | hithadhoo\n",
      "Processing Record 132 | vao\n",
      "Processing Record 133 | hirara\n",
      "Processing Record 134 | faanui\n",
      "City not found. Skipping...\n",
      "Processing Record 135 | sitka\n",
      "Processing Record 136 | ketchikan\n",
      "City not found. Skipping...\n",
      "Processing Record 137 | gat\n",
      "Processing Record 138 | kita\n",
      "Processing Record 139 | richards bay\n",
      "Processing Record 140 | sijunjung\n",
      "Processing Record 141 | safaga\n",
      "Processing Record 142 | darhan\n",
      "Processing Record 143 | dikson\n",
      "Processing Record 144 | carutapera\n",
      "Processing Record 145 | santa isabel do rio negro\n",
      "Processing Record 146 | kuandian\n",
      "City not found. Skipping...\n",
      "Processing Record 147 | tessalit\n",
      "Processing Record 148 | port elizabeth\n",
      "Processing Record 149 | finote selam\n",
      "Processing Record 150 | jinka\n",
      "Processing Record 151 | nishihara\n",
      "Processing Record 152 | kutum\n",
      "Processing Record 153 | bekhtery\n",
      "City not found. Skipping...\n",
      "Processing Record 154 | bontang\n",
      "Processing Record 155 | andenes\n",
      "Processing Record 156 | manokwari\n",
      "Processing Record 157 | paamiut\n",
      "Processing Record 158 | coro\n",
      "Processing Record 159 | rafai\n",
      "City not found. Skipping...\n",
      "Processing Record 160 | chernyshevskiy\n",
      "Processing Record 161 | nizhniy kuranakh\n",
      "Processing Record 162 | baghdad\n",
      "Processing Record 163 | ahome\n",
      "Processing Record 164 | rundu\n",
      "Processing Record 165 | tasiilaq\n",
      "Processing Record 166 | thompson\n",
      "Processing Record 167 | price\n",
      "Processing Record 168 | pau dos ferros\n",
      "Processing Record 169 | yellowknife\n",
      "Processing Record 170 | rio branco\n",
      "Processing Record 171 | omboue\n",
      "Processing Record 172 | bambous virieux\n",
      "Processing Record 173 | flin flon\n",
      "City not found. Skipping...\n",
      "Processing Record 174 | fray bentos\n",
      "Processing Record 175 | bengkulu\n",
      "Processing Record 176 | mahebourg\n",
      "Processing Record 177 | fortuna\n",
      "Processing Record 178 | takoradi\n",
      "Processing Record 179 | sucre\n",
      "Processing Record 180 | thinadhoo\n",
      "Processing Record 181 | letka\n",
      "Processing Record 182 | hami\n",
      "Processing Record 183 | kawalu\n",
      "City not found. Skipping...\n",
      "Processing Record 184 | komsomolskiy\n",
      "Processing Record 185 | honiara\n",
      "Processing Record 186 | yamoussoukro\n",
      "Processing Record 187 | butajira\n",
      "Processing Record 188 | puerto ayora\n",
      "Processing Record 189 | petropavlovsk-kamchatskiy\n",
      "Processing Record 190 | lompoc\n",
      "Processing Record 191 | egvekinot\n",
      "Processing Record 192 | westport\n",
      "Processing Record 193 | ikorodu\n",
      "Processing Record 194 | sisimiut\n",
      "Processing Record 195 | sibolga\n",
      "Processing Record 196 | aljezur\n",
      "Processing Record 197 | baruun-urt\n",
      "Processing Record 198 | leningradskiy\n",
      "Processing Record 199 | sao felix do xingu\n",
      "Processing Record 200 | atherton\n",
      "Processing Record 201 | tuktoyaktuk\n",
      "Processing Record 202 | fenelon falls\n",
      "Processing Record 203 | laguna\n",
      "Processing Record 204 | ponta delgada\n",
      "Processing Record 205 | segovia\n",
      "Processing Record 206 | castro\n",
      "City not found. Skipping...\n",
      "City not found. Skipping...\n",
      "City not found. Skipping...\n",
      "Processing Record 207 | chumikan\n",
      "Processing Record 208 | marsaxlokk\n",
      "Processing Record 209 | sur\n",
      "Processing Record 210 | tooele\n",
      "Processing Record 211 | kieta\n",
      "Processing Record 212 | henties bay\n",
      "Processing Record 213 | killybegs\n",
      "Processing Record 214 | kaukauna\n",
      "Processing Record 215 | portland\n",
      "Processing Record 216 | ossora\n",
      "Processing Record 217 | upernavik\n",
      "Processing Record 218 | guiratinga\n",
      "Processing Record 219 | udachnyy\n",
      "Processing Record 220 | cardston\n",
      "Processing Record 221 | owatonna\n",
      "Processing Record 222 | newcastle\n",
      "Processing Record 223 | sambava\n",
      "Processing Record 224 | saskylakh\n",
      "Processing Record 225 | plouzane\n",
      "Processing Record 226 | huarmey\n",
      "Processing Record 227 | soubre\n",
      "Processing Record 228 | koungheul\n",
      "Processing Record 229 | mukhen\n",
      "Processing Record 230 | kaeo\n",
      "Processing Record 231 | kilindoni\n",
      "Processing Record 232 | najran\n",
      "Processing Record 233 | fairbanks\n",
      "Processing Record 234 | urucara\n",
      "Processing Record 235 | kaitangata\n"
     ]
    },
    {
     "name": "stdout",
     "output_type": "stream",
     "text": [
      "Processing Record 236 | dom pedro\n",
      "Processing Record 237 | deputatskiy\n",
      "Processing Record 238 | chapais\n",
      "Processing Record 239 | perth\n",
      "Processing Record 240 | salemi\n",
      "Processing Record 241 | kungurtug\n",
      "Processing Record 242 | tura\n",
      "City not found. Skipping...\n",
      "Processing Record 243 | uyuni\n",
      "Processing Record 244 | santa rosa\n",
      "City not found. Skipping...\n",
      "Processing Record 245 | kristiinankaupunki\n",
      "Processing Record 246 | goderich\n",
      "Processing Record 247 | eyl\n",
      "Processing Record 248 | tiznit\n",
      "Processing Record 249 | ballina\n",
      "Processing Record 250 | tokur\n",
      "Processing Record 251 | felipe carrillo puerto\n",
      "Processing Record 252 | itaparica\n",
      "Processing Record 253 | missoula\n",
      "Processing Record 254 | mastic beach\n",
      "Processing Record 255 | sorong\n",
      "Processing Record 256 | dutse\n",
      "Processing Record 257 | bitkine\n",
      "Processing Record 258 | daugavpils\n",
      "Processing Record 259 | kodinsk\n",
      "City not found. Skipping...\n",
      "Processing Record 260 | kimbe\n",
      "Processing Record 261 | quelimane\n",
      "Processing Record 262 | severo-kurilsk\n",
      "Processing Record 263 | provideniya\n",
      "Processing Record 264 | weihai\n",
      "Processing Record 265 | alofi\n",
      "Processing Record 266 | shingu\n",
      "Processing Record 267 | sao joao da barra\n",
      "Processing Record 268 | olafsvik\n",
      "Processing Record 269 | san vicente de canete\n",
      "Processing Record 270 | usmajac\n",
      "Processing Record 271 | smithers\n",
      "Processing Record 272 | awjilah\n",
      "Processing Record 273 | zhanaozen\n",
      "Processing Record 274 | oranjemund\n",
      "Processing Record 275 | ahuimanu\n",
      "Processing Record 276 | flinders\n",
      "Processing Record 277 | palmer\n",
      "Processing Record 278 | baiyin\n",
      "City not found. Skipping...\n",
      "Processing Record 279 | shimoda\n",
      "Processing Record 280 | trinidad\n",
      "Processing Record 281 | victoria\n",
      "City not found. Skipping...\n",
      "Processing Record 282 | klaksvik\n",
      "Processing Record 283 | sao filipe\n",
      "Processing Record 284 | airai\n",
      "Processing Record 285 | naryan-mar\n",
      "Processing Record 286 | athabasca\n",
      "Processing Record 287 | doaba\n",
      "Processing Record 288 | isangel\n",
      "Processing Record 289 | ihosy\n",
      "Processing Record 290 | sychevka\n",
      "Processing Record 291 | morros\n",
      "Processing Record 292 | comodoro rivadavia\n",
      "Processing Record 293 | acarau\n",
      "Processing Record 294 | saldanha\n",
      "City not found. Skipping...\n",
      "Processing Record 295 | dongsheng\n",
      "Processing Record 296 | simao\n",
      "Processing Record 297 | taoudenni\n",
      "Processing Record 298 | shelburne\n",
      "Processing Record 299 | yumen\n",
      "Processing Record 300 | polewali\n",
      "Processing Record 301 | rodrigues alves\n",
      "Processing Record 302 | agadez\n",
      "Processing Record 303 | riyadh\n",
      "Processing Record 304 | bilibino\n",
      "Processing Record 305 | ngunguru\n",
      "Processing Record 306 | porto novo\n",
      "Processing Record 307 | keffi\n",
      "Processing Record 308 | virginia beach\n",
      "Processing Record 309 | bemidji\n",
      "City not found. Skipping...\n",
      "Processing Record 310 | amapa\n",
      "Processing Record 311 | narrabri\n",
      "Processing Record 312 | naberera\n",
      "Processing Record 313 | grindavik\n",
      "Processing Record 314 | belyy yar\n",
      "City not found. Skipping...\n",
      "Processing Record 315 | padang\n",
      "Processing Record 316 | katsuura\n",
      "Processing Record 317 | mackay\n",
      "Processing Record 318 | tautira\n",
      "Processing Record 319 | mentougou\n",
      "Processing Record 320 | marawi\n",
      "Processing Record 321 | kizilskoye\n",
      "Processing Record 322 | zhigansk\n",
      "Processing Record 323 | chuy\n",
      "City not found. Skipping...\n",
      "Processing Record 324 | kasangulu\n",
      "Processing Record 325 | havre-saint-pierre\n",
      "City not found. Skipping...\n",
      "Processing Record 326 | atar\n",
      "Processing Record 327 | tarn taran\n",
      "Processing Record 328 | bac lieu\n",
      "Processing Record 329 | fort-shevchenko\n",
      "Processing Record 330 | banda aceh\n",
      "Processing Record 331 | oriximina\n",
      "Processing Record 332 | sobolevo\n",
      "Processing Record 333 | dondaicha\n",
      "Processing Record 334 | taksimo\n",
      "Processing Record 335 | nova olimpia\n",
      "Processing Record 336 | hamilton\n",
      "Processing Record 337 | hovd\n",
      "Processing Record 338 | rawson\n",
      "Processing Record 339 | ahipara\n",
      "Processing Record 340 | kirando\n",
      "Processing Record 341 | tabou\n",
      "Processing Record 342 | sept-iles\n",
      "Processing Record 343 | sinegorskiy\n",
      "City not found. Skipping...\n",
      "Processing Record 344 | mehamn\n",
      "Processing Record 345 | barabash\n",
      "Processing Record 346 | ambanja\n",
      "Processing Record 347 | luorong\n",
      "Processing Record 348 | cockburn town\n",
      "Processing Record 349 | caravelas\n",
      "Processing Record 350 | yeppoon\n",
      "Processing Record 351 | port augusta\n",
      "Processing Record 352 | ipil\n",
      "Processing Record 353 | hofn\n",
      "Processing Record 354 | carlagan\n",
      "Processing Record 355 | davenda\n",
      "Processing Record 356 | vrangel\n",
      "Processing Record 357 | bonfim\n",
      "Processing Record 358 | turbat\n",
      "Processing Record 359 | sajanan\n",
      "Processing Record 360 | lugovoy\n",
      "Processing Record 361 | inyonga\n",
      "Processing Record 362 | iwanai\n",
      "Processing Record 363 | urengoy\n",
      "Processing Record 364 | chabahar\n",
      "Processing Record 365 | karratha\n",
      "Processing Record 366 | moron\n",
      "Processing Record 367 | necochea\n",
      "Processing Record 368 | manali\n",
      "Processing Record 369 | nizwa\n",
      "City not found. Skipping...\n",
      "Processing Record 370 | boa vista\n",
      "Processing Record 371 | shitanjing\n",
      "Processing Record 372 | yar-sale\n",
      "Processing Record 373 | namibe\n",
      "Processing Record 374 | mawlaik\n",
      "Processing Record 375 | urumqi\n",
      "Processing Record 376 | okara\n",
      "Processing Record 377 | santa vitoria do palmar\n",
      "Processing Record 378 | den helder\n",
      "Processing Record 379 | severo-yeniseyskiy\n",
      "Processing Record 380 | beyneu\n",
      "Processing Record 381 | plyussa\n",
      "Processing Record 382 | pimentel\n",
      "Processing Record 383 | trincomalee\n",
      "City not found. Skipping...\n",
      "Processing Record 384 | bani walid\n",
      "Processing Record 385 | meulaboh\n",
      "Processing Record 386 | gibara\n",
      "Processing Record 387 | san patricio\n",
      "Processing Record 388 | niquelandia\n",
      "Processing Record 389 | horconcitos\n",
      "Processing Record 390 | vostok\n",
      "Processing Record 391 | pangnirtung\n",
      "Processing Record 392 | wageningen\n",
      "Processing Record 393 | la estancia\n",
      "City not found. Skipping...\n",
      "City not found. Skipping...\n",
      "Processing Record 394 | ongandjera\n",
      "City not found. Skipping...\n",
      "Processing Record 395 | mount gambier\n",
      "Processing Record 396 | totness\n",
      "Processing Record 397 | neya\n",
      "Processing Record 398 | presidencia roque saenz pena\n",
      "Processing Record 399 | kaka\n",
      "Processing Record 400 | vila franca do campo\n",
      "Processing Record 401 | skelleftea\n",
      "Processing Record 402 | kasongo\n",
      "Processing Record 403 | fuyang\n",
      "Processing Record 404 | brownwood\n",
      "Processing Record 405 | jijiga\n",
      "Processing Record 406 | mecca\n",
      "City not found. Skipping...\n",
      "Processing Record 407 | rio gallegos\n",
      "Processing Record 408 | genc\n",
      "Processing Record 409 | puerto ayacucho\n",
      "Processing Record 410 | galesong\n",
      "Processing Record 411 | carballo\n",
      "Processing Record 412 | yulara\n",
      "City not found. Skipping...\n",
      "Processing Record 413 | manyana\n",
      "Processing Record 414 | road town\n",
      "Processing Record 415 | colesberg\n",
      "Processing Record 416 | chake chake\n",
      "Processing Record 417 | sola\n",
      "Processing Record 418 | provost\n",
      "Processing Record 419 | mahon\n",
      "Processing Record 420 | nelson bay\n",
      "Processing Record 421 | kavieng\n",
      "City not found. Skipping...\n",
      "Processing Record 422 | senges\n",
      "Processing Record 423 | ishigaki\n",
      "Processing Record 424 | kadaura\n",
      "Processing Record 425 | pervomayskoye\n",
      "Processing Record 426 | sungairaya\n",
      "Processing Record 427 | san quintin\n",
      "Processing Record 428 | sorland\n",
      "Processing Record 429 | topola\n",
      "Processing Record 430 | mayo\n",
      "Processing Record 431 | port hedland\n",
      "Processing Record 432 | khandyga\n",
      "Processing Record 433 | san giljan\n",
      "Processing Record 434 | kalabo\n",
      "Processing Record 435 | harnosand\n",
      "Processing Record 436 | pisco\n",
      "Processing Record 437 | kitakyushu\n",
      "Processing Record 438 | hobyo\n",
      "Processing Record 439 | kalmunai\n",
      "Processing Record 440 | clyde river\n",
      "Processing Record 441 | karatuzskoye\n",
      "Processing Record 442 | adrar\n",
      "Processing Record 443 | tucumcari\n",
      "Processing Record 444 | guerrero negro\n",
      "Processing Record 445 | broome\n",
      "Processing Record 446 | obo\n",
      "Processing Record 447 | viedma\n",
      "Processing Record 448 | touros\n",
      "Processing Record 449 | develi\n",
      "Processing Record 450 | panzhihua\n",
      "Processing Record 451 | pringsewu\n",
      "Processing Record 452 | gayny\n",
      "City not found. Skipping...\n",
      "Processing Record 453 | birjand\n",
      "City not found. Skipping...\n",
      "Processing Record 454 | sao joao de meriti\n",
      "Processing Record 455 | iracoubo\n",
      "Processing Record 456 | broken hill\n",
      "Processing Record 457 | port lincoln\n",
      "Processing Record 458 | messina\n",
      "Processing Record 459 | noumea\n",
      "Processing Record 460 | codrington\n",
      "Processing Record 461 | brooklyn park\n",
      "Processing Record 462 | dese\n",
      "Processing Record 463 | pailon\n",
      "Processing Record 464 | bilma\n",
      "Processing Record 465 | cairns\n"
     ]
    },
    {
     "name": "stdout",
     "output_type": "stream",
     "text": [
      "City not found. Skipping...\n",
      "Processing Record 466 | puerto colombia\n",
      "Processing Record 467 | nyzhni sirohozy\n",
      "Processing Record 468 | boda\n",
      "Processing Record 469 | chama\n",
      "Processing Record 470 | la ronge\n",
      "Processing Record 471 | faya\n",
      "Processing Record 472 | puerto del rosario\n",
      "City not found. Skipping...\n",
      "Processing Record 473 | chernelytsya\n",
      "Processing Record 474 | clinton\n",
      "City not found. Skipping...\n",
      "Processing Record 475 | gangakher\n",
      "Processing Record 476 | yenagoa\n",
      "Processing Record 477 | wodonga\n",
      "Processing Record 478 | pangai\n",
      "Processing Record 479 | chicama\n",
      "City not found. Skipping...\n",
      "Processing Record 480 | ambilobe\n",
      "Processing Record 481 | ust-nera\n",
      "Processing Record 482 | amahai\n",
      "City not found. Skipping...\n",
      "Processing Record 483 | puyang\n",
      "Processing Record 484 | carauari\n",
      "Processing Record 485 | kochevo\n",
      "Processing Record 486 | javanrud\n",
      "Processing Record 487 | havoysund\n",
      "Processing Record 488 | kannangad\n",
      "Processing Record 489 | kefalos\n",
      "Processing Record 490 | moju\n",
      "City not found. Skipping...\n",
      "Processing Record 491 | port arthur\n",
      "Processing Record 492 | morondava\n",
      "Processing Record 493 | anjiang\n",
      "Processing Record 494 | mercedes\n",
      "Processing Record 495 | canico\n",
      "Processing Record 496 | ulaanbaatar\n",
      "Processing Record 497 | los llanos de aridane\n",
      "Processing Record 498 | jurm\n",
      "Processing Record 499 | mundo novo\n",
      "Processing Record 500 | misratah\n",
      "Processing Record 501 | sao mateus\n",
      "Processing Record 502 | mpanda\n",
      "Processing Record 503 | ekhabi\n",
      "Processing Record 504 | samarai\n",
      "Processing Record 505 | tanout\n",
      "Processing Record 506 | saint anthony\n",
      "Processing Record 507 | igarka\n",
      "City not found. Skipping...\n",
      "Processing Record 508 | saint-michel-des-saints\n",
      "Processing Record 509 | tocache\n",
      "Processing Record 510 | kavaratti\n",
      "Processing Record 511 | tual\n",
      "Processing Record 512 | rocha\n",
      "Processing Record 513 | nouakchott\n",
      "Processing Record 514 | mislinja\n",
      "City not found. Skipping...\n",
      "Processing Record 515 | alihe\n",
      "Processing Record 516 | wagar\n",
      "Processing Record 517 | beloha\n",
      "Processing Record 518 | coxim\n",
      "Processing Record 519 | grand gaube\n",
      "Processing Record 520 | ardrishaig\n",
      "Processing Record 521 | polunochnoye\n",
      "Processing Record 522 | ust-kulom\n",
      "Processing Record 523 | belmonte\n",
      "Processing Record 524 | sistranda\n",
      "Processing Record 525 | asmara\n",
      "Processing Record 526 | matara\n",
      "Processing Record 527 | chunoyar\n",
      "Processing Record 528 | bata\n",
      "Processing Record 529 | manakara\n",
      "Processing Record 530 | nouadhibou\n",
      "Processing Record 531 | olinda\n",
      "Processing Record 532 | altamont\n",
      "Processing Record 533 | manching\n",
      "City not found. Skipping...\n",
      "Processing Record 534 | murfreesboro\n",
      "Processing Record 535 | vardo\n",
      "Processing Record 536 | pontian kecil\n",
      "Processing Record 537 | kuusamo\n",
      "Processing Record 538 | makinsk\n",
      "Processing Record 539 | varnavino\n",
      "Processing Record 540 | wladyslawowo\n",
      "Processing Record 541 | margate\n",
      "Processing Record 542 | cocentaina\n",
      "Processing Record 543 | mangaratiba\n",
      "Processing Record 544 | erzin\n",
      "Processing Record 545 | lakes entrance\n",
      "Processing Record 546 | taltal\n",
      "Processing Record 547 | nagornskiy\n",
      "Processing Record 548 | eustis\n",
      "Processing Record 549 | hualmay\n",
      "City not found. Skipping...\n",
      "Processing Record 550 | jalu\n",
      "Processing Record 551 | mweka\n",
      "Processing Record 552 | santa maria\n",
      "Processing Record 553 | tevriz\n",
      "Processing Record 554 | jeremie\n",
      "Processing Record 555 | acari\n",
      "Processing Record 556 | morro bay\n",
      "Processing Record 557 | usevya\n",
      "Processing Record 558 | jumla\n",
      "Processing Record 559 | zyryanka\n",
      "Processing Record 560 | pokhara\n",
      "Processing Record 561 | port hardy\n",
      "Processing Record 562 | arinos\n",
      "Processing Record 563 | coihaique\n",
      "Processing Record 564 | daru\n",
      "Processing Record 565 | svetlaya\n",
      "Processing Record 566 | aksarka\n",
      "Processing Record 567 | siparia\n",
      "Processing Record 568 | takanabe\n",
      "Processing Record 569 | griffith\n",
      "Processing Record 570 | bathsheba\n",
      "Processing Record 571 | powell river\n",
      "Processing Record 572 | yangambi\n",
      "Processing Record 573 | muhos\n",
      "Processing Record 574 | tateyama\n",
      "Processing Record 575 | itanhem\n",
      "Processing Record 576 | mareeba\n",
      "Processing Record 577 | sao miguel\n",
      "Processing Record 578 | san alberto\n"
     ]
    }
   ],
   "source": [
    "#Build query URL\n",
    "url = \"http://api.openweathermap.org/data/2.5/weather?\"\n",
    "units = \"imperial\"\n",
    "query_url = f\"{url}appid={weather_api_key}&units={units}&q=\"\n",
    "\n",
    "city_name = []\n",
    "lat = []\n",
    "lng = []\n",
    "max_temp = []\n",
    "humidity = []\n",
    "cloudiness = []\n",
    "wind_speed = []\n",
    "country = []\n",
    "date = []\n",
    "\n",
    "processing_record = 1\n",
    "\n",
    "\n",
    "print(\"Beginning Data Retrieval\")\n",
    "print(\"-----------------------------\")\n",
    "\n",
    "#for loop to gather all required data based on how it's formatted in query_url\n",
    "\n",
    "for city in cities:\n",
    "    \n",
    "    try:\n",
    "        response = requests.get(query_url + city).json()\n",
    "        city_name.append(response[\"name\"])\n",
    "        lat.append(response[\"coord\"][\"lat\"])\n",
    "        lng.append(response[\"coord\"][\"lon\"])\n",
    "        max_temp.append(response[\"main\"][\"temp_max\"])\n",
    "        humidity.append(response[\"main\"][\"humidity\"])\n",
    "        cloudiness.append(response[\"clouds\"][\"all\"])\n",
    "        wind_speed.append(response[\"wind\"][\"speed\"])\n",
    "        country.append(response[\"sys\"][\"country\"])\n",
    "        date.append(response[\"dt\"])\n",
    "        print(f\"Processing Record {processing_record} | {city}\")\n",
    "        \n",
    "        processing_record += 1\n",
    "    \n",
    "    except:\n",
    "        print(\"City not found. Skipping...\")\n",
    "    continue\n",
    "    \n",
    "    "
   ]
  },
  {
   "cell_type": "markdown",
   "metadata": {},
   "source": [
    "### Convert Raw Data to DataFrame\n",
    "* Export the city data into a .csv.\n",
    "* Display the DataFrame"
   ]
  },
  {
   "cell_type": "code",
   "execution_count": 53,
   "metadata": {},
   "outputs": [
    {
     "data": {
      "text/html": [
       "<div>\n",
       "<style scoped>\n",
       "    .dataframe tbody tr th:only-of-type {\n",
       "        vertical-align: middle;\n",
       "    }\n",
       "\n",
       "    .dataframe tbody tr th {\n",
       "        vertical-align: top;\n",
       "    }\n",
       "\n",
       "    .dataframe thead th {\n",
       "        text-align: right;\n",
       "    }\n",
       "</style>\n",
       "<table border=\"1\" class=\"dataframe\">\n",
       "  <thead>\n",
       "    <tr style=\"text-align: right;\">\n",
       "      <th></th>\n",
       "      <th>City</th>\n",
       "      <th>Lat</th>\n",
       "      <th>Lng</th>\n",
       "      <th>Max Temp</th>\n",
       "      <th>Humidity</th>\n",
       "      <th>Cloudiness</th>\n",
       "      <th>Wind Speed</th>\n",
       "      <th>Country</th>\n",
       "      <th>Date</th>\n",
       "    </tr>\n",
       "  </thead>\n",
       "  <tbody>\n",
       "    <tr>\n",
       "      <th>0</th>\n",
       "      <td>Mana</td>\n",
       "      <td>5.6592</td>\n",
       "      <td>-53.7767</td>\n",
       "      <td>77.25</td>\n",
       "      <td>83</td>\n",
       "      <td>96</td>\n",
       "      <td>11.74</td>\n",
       "      <td>GF</td>\n",
       "      <td>1611025426</td>\n",
       "    </tr>\n",
       "    <tr>\n",
       "      <th>1</th>\n",
       "      <td>Barrow</td>\n",
       "      <td>71.2906</td>\n",
       "      <td>-156.7887</td>\n",
       "      <td>-2.20</td>\n",
       "      <td>78</td>\n",
       "      <td>90</td>\n",
       "      <td>20.71</td>\n",
       "      <td>US</td>\n",
       "      <td>1611025426</td>\n",
       "    </tr>\n",
       "    <tr>\n",
       "      <th>2</th>\n",
       "      <td>Cape Town</td>\n",
       "      <td>-33.9258</td>\n",
       "      <td>18.4232</td>\n",
       "      <td>68.00</td>\n",
       "      <td>88</td>\n",
       "      <td>0</td>\n",
       "      <td>10.36</td>\n",
       "      <td>ZA</td>\n",
       "      <td>1611025426</td>\n",
       "    </tr>\n",
       "    <tr>\n",
       "      <th>3</th>\n",
       "      <td>Atasū</td>\n",
       "      <td>48.6814</td>\n",
       "      <td>71.6433</td>\n",
       "      <td>14.02</td>\n",
       "      <td>87</td>\n",
       "      <td>93</td>\n",
       "      <td>5.12</td>\n",
       "      <td>KZ</td>\n",
       "      <td>1611025426</td>\n",
       "    </tr>\n",
       "    <tr>\n",
       "      <th>4</th>\n",
       "      <td>Vaini</td>\n",
       "      <td>-21.2000</td>\n",
       "      <td>-175.2000</td>\n",
       "      <td>86.00</td>\n",
       "      <td>74</td>\n",
       "      <td>75</td>\n",
       "      <td>9.22</td>\n",
       "      <td>TO</td>\n",
       "      <td>1611025426</td>\n",
       "    </tr>\n",
       "    <tr>\n",
       "      <th>...</th>\n",
       "      <td>...</td>\n",
       "      <td>...</td>\n",
       "      <td>...</td>\n",
       "      <td>...</td>\n",
       "      <td>...</td>\n",
       "      <td>...</td>\n",
       "      <td>...</td>\n",
       "      <td>...</td>\n",
       "      <td>...</td>\n",
       "    </tr>\n",
       "    <tr>\n",
       "      <th>573</th>\n",
       "      <td>Tateyama</td>\n",
       "      <td>34.9833</td>\n",
       "      <td>139.8667</td>\n",
       "      <td>48.99</td>\n",
       "      <td>53</td>\n",
       "      <td>20</td>\n",
       "      <td>12.66</td>\n",
       "      <td>JP</td>\n",
       "      <td>1611025474</td>\n",
       "    </tr>\n",
       "    <tr>\n",
       "      <th>574</th>\n",
       "      <td>Itanhém</td>\n",
       "      <td>-17.1664</td>\n",
       "      <td>-40.3300</td>\n",
       "      <td>69.46</td>\n",
       "      <td>92</td>\n",
       "      <td>19</td>\n",
       "      <td>5.14</td>\n",
       "      <td>BR</td>\n",
       "      <td>1611025474</td>\n",
       "    </tr>\n",
       "    <tr>\n",
       "      <th>575</th>\n",
       "      <td>Mareeba</td>\n",
       "      <td>-17.0000</td>\n",
       "      <td>145.4333</td>\n",
       "      <td>86.00</td>\n",
       "      <td>66</td>\n",
       "      <td>96</td>\n",
       "      <td>6.91</td>\n",
       "      <td>AU</td>\n",
       "      <td>1611025381</td>\n",
       "    </tr>\n",
       "    <tr>\n",
       "      <th>576</th>\n",
       "      <td>São Miguel</td>\n",
       "      <td>-5.4667</td>\n",
       "      <td>-35.3667</td>\n",
       "      <td>80.60</td>\n",
       "      <td>78</td>\n",
       "      <td>40</td>\n",
       "      <td>9.22</td>\n",
       "      <td>BR</td>\n",
       "      <td>1611025474</td>\n",
       "    </tr>\n",
       "    <tr>\n",
       "      <th>577</th>\n",
       "      <td>San Alberto</td>\n",
       "      <td>7.7611</td>\n",
       "      <td>-73.3922</td>\n",
       "      <td>78.12</td>\n",
       "      <td>58</td>\n",
       "      <td>0</td>\n",
       "      <td>2.13</td>\n",
       "      <td>CO</td>\n",
       "      <td>1611025474</td>\n",
       "    </tr>\n",
       "  </tbody>\n",
       "</table>\n",
       "<p>578 rows × 9 columns</p>\n",
       "</div>"
      ],
      "text/plain": [
       "            City      Lat       Lng  Max Temp  Humidity  Cloudiness  \\\n",
       "0           Mana   5.6592  -53.7767     77.25        83          96   \n",
       "1         Barrow  71.2906 -156.7887     -2.20        78          90   \n",
       "2      Cape Town -33.9258   18.4232     68.00        88           0   \n",
       "3          Atasū  48.6814   71.6433     14.02        87          93   \n",
       "4          Vaini -21.2000 -175.2000     86.00        74          75   \n",
       "..           ...      ...       ...       ...       ...         ...   \n",
       "573     Tateyama  34.9833  139.8667     48.99        53          20   \n",
       "574      Itanhém -17.1664  -40.3300     69.46        92          19   \n",
       "575      Mareeba -17.0000  145.4333     86.00        66          96   \n",
       "576   São Miguel  -5.4667  -35.3667     80.60        78          40   \n",
       "577  San Alberto   7.7611  -73.3922     78.12        58           0   \n",
       "\n",
       "     Wind Speed Country        Date  \n",
       "0         11.74      GF  1611025426  \n",
       "1         20.71      US  1611025426  \n",
       "2         10.36      ZA  1611025426  \n",
       "3          5.12      KZ  1611025426  \n",
       "4          9.22      TO  1611025426  \n",
       "..          ...     ...         ...  \n",
       "573       12.66      JP  1611025474  \n",
       "574        5.14      BR  1611025474  \n",
       "575        6.91      AU  1611025381  \n",
       "576        9.22      BR  1611025474  \n",
       "577        2.13      CO  1611025474  \n",
       "\n",
       "[578 rows x 9 columns]"
      ]
     },
     "execution_count": 53,
     "metadata": {},
     "output_type": "execute_result"
    }
   ],
   "source": [
    "#making a dictionary with the columns I need.\n",
    "weather_city_dict = {\"City\": city_name,\"Lat\": lat,\"Lng\": lng, \"Max Temp\": max_temp, \"Humidity\": humidity,\n",
    "                     \"Cloudiness\": cloudiness, \"Wind Speed\": wind_speed, \"Country\": country, \"Date\": date}\n",
    "city_weather = pd.DataFrame(weather_city_dict)\n",
    "city_weather.to_csv(\"../WeatherPy/city_weather.csv\")\n",
    "city_weather"
   ]
  },
  {
   "cell_type": "code",
   "execution_count": 31,
   "metadata": {},
   "outputs": [
    {
     "data": {
      "text/html": [
       "<div>\n",
       "<style scoped>\n",
       "    .dataframe tbody tr th:only-of-type {\n",
       "        vertical-align: middle;\n",
       "    }\n",
       "\n",
       "    .dataframe tbody tr th {\n",
       "        vertical-align: top;\n",
       "    }\n",
       "\n",
       "    .dataframe thead th {\n",
       "        text-align: right;\n",
       "    }\n",
       "</style>\n",
       "<table border=\"1\" class=\"dataframe\">\n",
       "  <thead>\n",
       "    <tr style=\"text-align: right;\">\n",
       "      <th></th>\n",
       "      <th>Lat</th>\n",
       "      <th>Lng</th>\n",
       "      <th>Max Temp</th>\n",
       "      <th>Humidity</th>\n",
       "      <th>Cloudiness</th>\n",
       "      <th>Wind Speed</th>\n",
       "      <th>Date</th>\n",
       "    </tr>\n",
       "  </thead>\n",
       "  <tbody>\n",
       "    <tr>\n",
       "      <th>count</th>\n",
       "      <td>578.000000</td>\n",
       "      <td>578.000000</td>\n",
       "      <td>578.000000</td>\n",
       "      <td>578.000000</td>\n",
       "      <td>578.000000</td>\n",
       "      <td>578.000000</td>\n",
       "      <td>5.780000e+02</td>\n",
       "    </tr>\n",
       "    <tr>\n",
       "      <th>mean</th>\n",
       "      <td>19.208634</td>\n",
       "      <td>19.102604</td>\n",
       "      <td>48.319723</td>\n",
       "      <td>73.200692</td>\n",
       "      <td>52.961938</td>\n",
       "      <td>8.171972</td>\n",
       "      <td>1.611025e+09</td>\n",
       "    </tr>\n",
       "    <tr>\n",
       "      <th>std</th>\n",
       "      <td>32.976446</td>\n",
       "      <td>89.269105</td>\n",
       "      <td>32.639327</td>\n",
       "      <td>19.589669</td>\n",
       "      <td>41.428043</td>\n",
       "      <td>6.088739</td>\n",
       "      <td>6.170571e+01</td>\n",
       "    </tr>\n",
       "    <tr>\n",
       "      <th>min</th>\n",
       "      <td>-54.800000</td>\n",
       "      <td>-179.166700</td>\n",
       "      <td>-55.570000</td>\n",
       "      <td>13.000000</td>\n",
       "      <td>0.000000</td>\n",
       "      <td>0.340000</td>\n",
       "      <td>1.611025e+09</td>\n",
       "    </tr>\n",
       "    <tr>\n",
       "      <th>25%</th>\n",
       "      <td>-7.657675</td>\n",
       "      <td>-58.538750</td>\n",
       "      <td>28.602500</td>\n",
       "      <td>63.000000</td>\n",
       "      <td>1.000000</td>\n",
       "      <td>3.475000</td>\n",
       "      <td>1.611025e+09</td>\n",
       "    </tr>\n",
       "    <tr>\n",
       "      <th>50%</th>\n",
       "      <td>21.452950</td>\n",
       "      <td>24.175150</td>\n",
       "      <td>60.540000</td>\n",
       "      <td>79.000000</td>\n",
       "      <td>64.500000</td>\n",
       "      <td>6.510000</td>\n",
       "      <td>1.611025e+09</td>\n",
       "    </tr>\n",
       "    <tr>\n",
       "      <th>75%</th>\n",
       "      <td>46.645175</td>\n",
       "      <td>97.472525</td>\n",
       "      <td>73.400000</td>\n",
       "      <td>88.000000</td>\n",
       "      <td>96.000000</td>\n",
       "      <td>11.605000</td>\n",
       "      <td>1.611025e+09</td>\n",
       "    </tr>\n",
       "    <tr>\n",
       "      <th>max</th>\n",
       "      <td>78.218600</td>\n",
       "      <td>178.416700</td>\n",
       "      <td>103.260000</td>\n",
       "      <td>100.000000</td>\n",
       "      <td>100.000000</td>\n",
       "      <td>34.490000</td>\n",
       "      <td>1.611025e+09</td>\n",
       "    </tr>\n",
       "  </tbody>\n",
       "</table>\n",
       "</div>"
      ],
      "text/plain": [
       "              Lat         Lng    Max Temp    Humidity  Cloudiness  Wind Speed  \\\n",
       "count  578.000000  578.000000  578.000000  578.000000  578.000000  578.000000   \n",
       "mean    19.208634   19.102604   48.319723   73.200692   52.961938    8.171972   \n",
       "std     32.976446   89.269105   32.639327   19.589669   41.428043    6.088739   \n",
       "min    -54.800000 -179.166700  -55.570000   13.000000    0.000000    0.340000   \n",
       "25%     -7.657675  -58.538750   28.602500   63.000000    1.000000    3.475000   \n",
       "50%     21.452950   24.175150   60.540000   79.000000   64.500000    6.510000   \n",
       "75%     46.645175   97.472525   73.400000   88.000000   96.000000   11.605000   \n",
       "max     78.218600  178.416700  103.260000  100.000000  100.000000   34.490000   \n",
       "\n",
       "               Date  \n",
       "count  5.780000e+02  \n",
       "mean   1.611025e+09  \n",
       "std    6.170571e+01  \n",
       "min    1.611025e+09  \n",
       "25%    1.611025e+09  \n",
       "50%    1.611025e+09  \n",
       "75%    1.611025e+09  \n",
       "max    1.611025e+09  "
      ]
     },
     "execution_count": 31,
     "metadata": {},
     "output_type": "execute_result"
    }
   ],
   "source": [
    "city_weather.describe()"
   ]
  },
  {
   "cell_type": "markdown",
   "metadata": {},
   "source": [
    "## Inspect the data and remove the cities where the humidity > 100%.\n",
    "----\n",
    "Skip this step if there are no cities that have humidity > 100%. "
   ]
  },
  {
   "cell_type": "code",
   "execution_count": 6,
   "metadata": {},
   "outputs": [
    {
     "data": {
      "text/html": [
       "<div>\n",
       "<style scoped>\n",
       "    .dataframe tbody tr th:only-of-type {\n",
       "        vertical-align: middle;\n",
       "    }\n",
       "\n",
       "    .dataframe tbody tr th {\n",
       "        vertical-align: top;\n",
       "    }\n",
       "\n",
       "    .dataframe thead th {\n",
       "        text-align: right;\n",
       "    }\n",
       "</style>\n",
       "<table border=\"1\" class=\"dataframe\">\n",
       "  <thead>\n",
       "    <tr style=\"text-align: right;\">\n",
       "      <th></th>\n",
       "      <th>Lat</th>\n",
       "      <th>Lng</th>\n",
       "      <th>Max Temp</th>\n",
       "      <th>Humidity</th>\n",
       "      <th>Cloudiness</th>\n",
       "      <th>Wind Speed</th>\n",
       "      <th>Date</th>\n",
       "    </tr>\n",
       "  </thead>\n",
       "  <tbody>\n",
       "    <tr>\n",
       "      <th>count</th>\n",
       "      <td>550.000000</td>\n",
       "      <td>550.000000</td>\n",
       "      <td>550.000000</td>\n",
       "      <td>550.000000</td>\n",
       "      <td>550.000000</td>\n",
       "      <td>550.000000</td>\n",
       "      <td>5.500000e+02</td>\n",
       "    </tr>\n",
       "    <tr>\n",
       "      <th>mean</th>\n",
       "      <td>19.973545</td>\n",
       "      <td>17.124400</td>\n",
       "      <td>58.331400</td>\n",
       "      <td>67.890909</td>\n",
       "      <td>52.141818</td>\n",
       "      <td>8.544800</td>\n",
       "      <td>1.585764e+09</td>\n",
       "    </tr>\n",
       "    <tr>\n",
       "      <th>std</th>\n",
       "      <td>33.284840</td>\n",
       "      <td>91.595451</td>\n",
       "      <td>25.795297</td>\n",
       "      <td>20.864881</td>\n",
       "      <td>35.766469</td>\n",
       "      <td>6.078869</td>\n",
       "      <td>5.539674e+01</td>\n",
       "    </tr>\n",
       "    <tr>\n",
       "      <th>min</th>\n",
       "      <td>-54.800000</td>\n",
       "      <td>-179.170000</td>\n",
       "      <td>-11.340000</td>\n",
       "      <td>9.000000</td>\n",
       "      <td>0.000000</td>\n",
       "      <td>0.160000</td>\n",
       "      <td>1.585764e+09</td>\n",
       "    </tr>\n",
       "    <tr>\n",
       "      <th>25%</th>\n",
       "      <td>-8.077500</td>\n",
       "      <td>-64.627500</td>\n",
       "      <td>42.800000</td>\n",
       "      <td>55.000000</td>\n",
       "      <td>20.000000</td>\n",
       "      <td>4.525000</td>\n",
       "      <td>1.585764e+09</td>\n",
       "    </tr>\n",
       "    <tr>\n",
       "      <th>50%</th>\n",
       "      <td>23.630000</td>\n",
       "      <td>19.635000</td>\n",
       "      <td>64.940000</td>\n",
       "      <td>72.000000</td>\n",
       "      <td>57.000000</td>\n",
       "      <td>7.325000</td>\n",
       "      <td>1.585764e+09</td>\n",
       "    </tr>\n",
       "    <tr>\n",
       "      <th>75%</th>\n",
       "      <td>48.672500</td>\n",
       "      <td>97.350000</td>\n",
       "      <td>78.800000</td>\n",
       "      <td>83.000000</td>\n",
       "      <td>86.750000</td>\n",
       "      <td>11.410000</td>\n",
       "      <td>1.585764e+09</td>\n",
       "    </tr>\n",
       "    <tr>\n",
       "      <th>max</th>\n",
       "      <td>78.220000</td>\n",
       "      <td>179.320000</td>\n",
       "      <td>102.200000</td>\n",
       "      <td>100.000000</td>\n",
       "      <td>100.000000</td>\n",
       "      <td>46.080000</td>\n",
       "      <td>1.585764e+09</td>\n",
       "    </tr>\n",
       "  </tbody>\n",
       "</table>\n",
       "</div>"
      ],
      "text/plain": [
       "              Lat         Lng    Max Temp    Humidity  Cloudiness  Wind Speed  \\\n",
       "count  550.000000  550.000000  550.000000  550.000000  550.000000  550.000000   \n",
       "mean    19.973545   17.124400   58.331400   67.890909   52.141818    8.544800   \n",
       "std     33.284840   91.595451   25.795297   20.864881   35.766469    6.078869   \n",
       "min    -54.800000 -179.170000  -11.340000    9.000000    0.000000    0.160000   \n",
       "25%     -8.077500  -64.627500   42.800000   55.000000   20.000000    4.525000   \n",
       "50%     23.630000   19.635000   64.940000   72.000000   57.000000    7.325000   \n",
       "75%     48.672500   97.350000   78.800000   83.000000   86.750000   11.410000   \n",
       "max     78.220000  179.320000  102.200000  100.000000  100.000000   46.080000   \n",
       "\n",
       "               Date  \n",
       "count  5.500000e+02  \n",
       "mean   1.585764e+09  \n",
       "std    5.539674e+01  \n",
       "min    1.585764e+09  \n",
       "25%    1.585764e+09  \n",
       "50%    1.585764e+09  \n",
       "75%    1.585764e+09  \n",
       "max    1.585764e+09  "
      ]
     },
     "execution_count": 6,
     "metadata": {},
     "output_type": "execute_result"
    }
   ],
   "source": [
    "#no cities had > 100% humidity."
   ]
  },
  {
   "cell_type": "code",
   "execution_count": 17,
   "metadata": {},
   "outputs": [
    {
     "data": {
      "text/plain": [
       "Int64Index([], dtype='int64')"
      ]
     },
     "execution_count": 17,
     "metadata": {},
     "output_type": "execute_result"
    }
   ],
   "source": [
    "#  Get the indices of cities that have humidity over 100%.\n"
   ]
  },
  {
   "cell_type": "code",
   "execution_count": 19,
   "metadata": {},
   "outputs": [
    {
     "data": {
      "text/html": [
       "<div>\n",
       "<style scoped>\n",
       "    .dataframe tbody tr th:only-of-type {\n",
       "        vertical-align: middle;\n",
       "    }\n",
       "\n",
       "    .dataframe tbody tr th {\n",
       "        vertical-align: top;\n",
       "    }\n",
       "\n",
       "    .dataframe thead th {\n",
       "        text-align: right;\n",
       "    }\n",
       "</style>\n",
       "<table border=\"1\" class=\"dataframe\">\n",
       "  <thead>\n",
       "    <tr style=\"text-align: right;\">\n",
       "      <th></th>\n",
       "      <th>City</th>\n",
       "      <th>Lat</th>\n",
       "      <th>Lng</th>\n",
       "      <th>Max Temp</th>\n",
       "      <th>Humidity</th>\n",
       "      <th>Cloudiness</th>\n",
       "      <th>Wind Speed</th>\n",
       "      <th>Country</th>\n",
       "      <th>Date</th>\n",
       "    </tr>\n",
       "  </thead>\n",
       "  <tbody>\n",
       "    <tr>\n",
       "      <td>0</td>\n",
       "      <td>butaritari</td>\n",
       "      <td>3.07</td>\n",
       "      <td>172.79</td>\n",
       "      <td>83.32</td>\n",
       "      <td>74</td>\n",
       "      <td>84</td>\n",
       "      <td>10.42</td>\n",
       "      <td>KI</td>\n",
       "      <td>1593605283</td>\n",
       "    </tr>\n",
       "    <tr>\n",
       "      <td>1</td>\n",
       "      <td>yerbogachen</td>\n",
       "      <td>61.28</td>\n",
       "      <td>108.01</td>\n",
       "      <td>79.52</td>\n",
       "      <td>58</td>\n",
       "      <td>20</td>\n",
       "      <td>7.70</td>\n",
       "      <td>RU</td>\n",
       "      <td>1593605121</td>\n",
       "    </tr>\n",
       "    <tr>\n",
       "      <td>2</td>\n",
       "      <td>cape town</td>\n",
       "      <td>-33.93</td>\n",
       "      <td>18.42</td>\n",
       "      <td>73.00</td>\n",
       "      <td>77</td>\n",
       "      <td>27</td>\n",
       "      <td>4.70</td>\n",
       "      <td>ZA</td>\n",
       "      <td>1593605039</td>\n",
       "    </tr>\n",
       "    <tr>\n",
       "      <td>3</td>\n",
       "      <td>touba</td>\n",
       "      <td>8.28</td>\n",
       "      <td>-7.68</td>\n",
       "      <td>79.97</td>\n",
       "      <td>75</td>\n",
       "      <td>82</td>\n",
       "      <td>3.58</td>\n",
       "      <td>CI</td>\n",
       "      <td>1593605284</td>\n",
       "    </tr>\n",
       "    <tr>\n",
       "      <td>4</td>\n",
       "      <td>jamestown</td>\n",
       "      <td>42.10</td>\n",
       "      <td>-79.24</td>\n",
       "      <td>64.00</td>\n",
       "      <td>88</td>\n",
       "      <td>1</td>\n",
       "      <td>6.93</td>\n",
       "      <td>US</td>\n",
       "      <td>1593605284</td>\n",
       "    </tr>\n",
       "  </tbody>\n",
       "</table>\n",
       "</div>"
      ],
      "text/plain": [
       "          City    Lat     Lng  Max Temp  Humidity  Cloudiness  Wind Speed  \\\n",
       "0   butaritari   3.07  172.79     83.32        74          84       10.42   \n",
       "1  yerbogachen  61.28  108.01     79.52        58          20        7.70   \n",
       "2    cape town -33.93   18.42     73.00        77          27        4.70   \n",
       "3        touba   8.28   -7.68     79.97        75          82        3.58   \n",
       "4    jamestown  42.10  -79.24     64.00        88           1        6.93   \n",
       "\n",
       "  Country        Date  \n",
       "0      KI  1593605283  \n",
       "1      RU  1593605121  \n",
       "2      ZA  1593605039  \n",
       "3      CI  1593605284  \n",
       "4      US  1593605284  "
      ]
     },
     "execution_count": 19,
     "metadata": {},
     "output_type": "execute_result"
    }
   ],
   "source": [
    "# Make a new DataFrame equal to the city data to drop all humidity outliers by index.\n",
    "# Passing \"inplace=False\" will make a copy of the city_data DataFrame, which we call \"clean_city_data\".\n"
   ]
  },
  {
   "cell_type": "code",
   "execution_count": null,
   "metadata": {},
   "outputs": [],
   "source": [
    "\n"
   ]
  },
  {
   "cell_type": "markdown",
   "metadata": {},
   "source": [
    "## Plotting the Data\n",
    "* Use proper labeling of the plots using plot titles (including date of analysis) and axes labels.\n",
    "* Save the plotted figures as .pngs."
   ]
  },
  {
   "cell_type": "markdown",
   "metadata": {},
   "source": [
    "## Latitude vs. Temperature Plot"
   ]
  },
  {
   "cell_type": "code",
   "execution_count": 40,
   "metadata": {
    "scrolled": false
   },
   "outputs": [
    {
     "data": {
      "image/png": "[encoded data removed]",
      "text/plain": [
       "<Figure size 432x288 with 1 Axes>"
      ]
     },
     "metadata": {
      "needs_background": "light"
     },
     "output_type": "display_data"
    }
   ],
   "source": [
    "#create x and y values. \n",
    "x_values = city_weather[\"Lat\"]\n",
    "y_values = city_weather[\"Max Temp\"]\n",
    "#plot the scatter plot using above x and y values and chose colors and labels. \n",
    "plt.scatter(x_values, y_values, facecolor = \"teal\", edgecolor = \"black\")\n",
    "plt.title(\"City Latitude vs. Max Temperature (01/18/2021)\")\n",
    "plt.xlabel(\"Latitude\")\n",
    "plt.ylabel(\"Max Temperature (F)\")\n",
    "plt.show()"
   ]
  },
  {
   "cell_type": "code",
   "execution_count": null,
   "metadata": {},
   "outputs": [],
   "source": [
    "# This shows that the higher the latitude is, the lower the max temperature is. "
   ]
  },
  {
   "cell_type": "markdown",
   "metadata": {},
   "source": [
    "## Latitude vs. Humidity Plot"
   ]
  },
  {
   "cell_type": "code",
   "execution_count": 44,
   "metadata": {},
   "outputs": [
    {
     "data": {
      "image/png": "[encoded data removed]",
      "text/plain": [
       "<Figure size 432x288 with 1 Axes>"
      ]
     },
     "metadata": {
      "needs_background": "light"
     },
     "output_type": "display_data"
    }
   ],
   "source": [
    "x_values = city_weather[\"Lat\"]\n",
    "y_hum = city_weather[\"Humidity\"]\n",
    "\n",
    "plt.scatter(x_values, y_hum, facecolor = \"skyblue\", edgecolor = \"black\")\n",
    "plt.title(\"City Latitude vs. Humidity (01/18/2021)\")\n",
    "plt.xlabel(\"Latitude\")\n",
    "plt.ylabel(\"Humidity (%)\")\n",
    "plt.show()"
   ]
  },
  {
   "cell_type": "code",
   "execution_count": null,
   "metadata": {},
   "outputs": [],
   "source": [
    "#It seems that higher humidity is grouped -20 latitude, and 40-50 latitude. "
   ]
  },
  {
   "cell_type": "markdown",
   "metadata": {},
   "source": [
    "## Latitude vs. Cloudiness Plot"
   ]
  },
  {
   "cell_type": "code",
   "execution_count": 47,
   "metadata": {},
   "outputs": [
    {
     "data": {
      "image/png": "[encoded data removed]",
      "text/plain": [
       "<Figure size 432x288 with 1 Axes>"
      ]
     },
     "metadata": {
      "needs_background": "light"
     },
     "output_type": "display_data"
    }
   ],
   "source": [
    "x_values = city_weather[\"Lat\"]\n",
    "y_cloud = city_weather[\"Cloudiness\"]\n",
    "\n",
    "plt.scatter(x_values, y_cloud, facecolor = \"lightblue\", edgecolor = \"black\")\n",
    "plt.title(\"City Latitude vs. Cloudiness (01/18/2021)\")\n",
    "plt.xlabel(\"Latitude\")\n",
    "plt.ylabel(\"Cloudiness (%)\")\n",
    "plt.show()"
   ]
  },
  {
   "cell_type": "code",
   "execution_count": null,
   "metadata": {},
   "outputs": [],
   "source": [
    "#The majority of cities are either 100% cloudiness or zero cloudiness"
   ]
  },
  {
   "cell_type": "markdown",
   "metadata": {},
   "source": [
    "## Latitude vs. Wind Speed Plot"
   ]
  },
  {
   "cell_type": "code",
   "execution_count": 49,
   "metadata": {},
   "outputs": [
    {
     "data": {
      "image/png": "[encoded data removed]",
      "text/plain": [
       "<Figure size 432x288 with 1 Axes>"
      ]
     },
     "metadata": {
      "needs_background": "light"
     },
     "output_type": "display_data"
    }
   ],
   "source": [
    "x_values = city_weather[\"Lat\"]\n",
    "y_wind = city_weather[\"Wind Speed\"]\n",
    "\n",
    "plt.scatter(x_values, y_wind, facecolor = \"lightgreen\", edgecolor = \"black\")\n",
    "plt.title(\"City Latitude vs. Wind Speed (01/18/2021)\")\n",
    "plt.xlabel(\"Latitude\")\n",
    "plt.ylabel(\"Wind Speed (mph)\")\n",
    "plt.show()"
   ]
  },
  {
   "cell_type": "code",
   "execution_count": null,
   "metadata": {},
   "outputs": [],
   "source": [
    "#Most of the cities seem to have hardly any wind speed regardless of latitude. "
   ]
  },
  {
   "cell_type": "markdown",
   "metadata": {},
   "source": [
    "## Linear Regression"
   ]
  },
  {
   "cell_type": "code",
   "execution_count": 56,
   "metadata": {},
   "outputs": [],
   "source": [
    "north_hem = city_weather.loc[city_weather[\"Lat\"] >= 0]\n",
    "south_hem = city_weather.loc[city_weather[\"Lng\"] < 0]"
   ]
  },
  {
   "cell_type": "markdown",
   "metadata": {},
   "source": [
    "####  Northern Hemisphere - Max Temp vs. Latitude Linear Regression"
   ]
  },
  {
   "cell_type": "code",
   "execution_count": 63,
   "metadata": {},
   "outputs": [
    {
     "name": "stdout",
     "output_type": "stream",
     "text": [
      "The r-value is: -0.8518088799155091\n"
     ]
    },
    {
     "data": {
      "image/png": "[encoded data removed]",
      "text/plain": [
       "<Figure size 432x288 with 1 Axes>"
      ]
     },
     "metadata": {
      "needs_background": "light"
     },
     "output_type": "display_data"
    }
   ],
   "source": [
    "northern_x_values = north_hem[\"Lat\"]\n",
    "northern_y_values = north_hem[\"Max Temp\"]\n",
    "\n",
    "\n",
    "(slope, intercept, rvalue, pvalue, stderr) = linregress(northern_x_values, northern_y_values)\n",
    "regress_values = northern_x_values * slope + intercept\n",
    "line_eq = \"y = \" + str(round(slope,2)) + \"x + \" + str(round(intercept,2))\n",
    "plt.scatter(northern_x_values, northern_y_values)\n",
    "plt.plot(northern_x_values, regress_values, \"r-\")\n",
    "plt.annotate(line_eq,(1,1),fontsize=15,color=\"red\")\n",
    "plt.xlabel(\"Latitude\")\n",
    "plt.ylabel(\"Max Temp\")\n",
    "print(f\"The r-value is: {rvalue}\")\n",
    "plt.show()"
   ]
  },
  {
   "cell_type": "markdown",
   "metadata": {},
   "source": [
    "####  Southern Hemisphere - Max Temp vs. Latitude Linear Regression"
   ]
  },
  {
   "cell_type": "code",
   "execution_count": 71,
   "metadata": {},
   "outputs": [
    {
     "name": "stdout",
     "output_type": "stream",
     "text": [
      "The r-value is: -0.7574778776490291\n"
     ]
    },
    {
     "data": {
      "image/png": "[encoded data removed]",
      "text/plain": [
       "<Figure size 432x288 with 1 Axes>"
      ]
     },
     "metadata": {
      "needs_background": "light"
     },
     "output_type": "display_data"
    }
   ],
   "source": [
    "southern_x_values = south_hem[\"Lat\"]\n",
    "southern_y_values = south_hem[\"Max Temp\"]\n",
    "\n",
    "\n",
    "(slope, intercept, rvalue, pvalue, stderr) = linregress(southern_x_values, southern_y_values)\n",
    "regress_values = southern_x_values * slope + intercept\n",
    "line_eq = \"y = \" + str(round(slope,2)) + \"x + \" + str(round(intercept,2))\n",
    "plt.scatter(southern_x_values, southern_y_values)\n",
    "plt.plot(southern_x_values, regress_values, \"r-\")\n",
    "plt.annotate(line_eq,(1,-20),fontsize=15,color=\"red\")\n",
    "plt.xlabel(\"Latitude\")\n",
    "plt.ylabel(\"Max Temp\")\n",
    "print(f\"The r-value is: {rvalue}\")\n",
    "plt.show()"
   ]
  },
  {
   "cell_type": "markdown",
   "metadata": {},
   "source": [
    "####  Northern Hemisphere - Humidity (%) vs. Latitude Linear Regression"
   ]
  },
  {
   "cell_type": "code",
   "execution_count": 70,
   "metadata": {},
   "outputs": [
    {
     "name": "stdout",
     "output_type": "stream",
     "text": [
      "The r-value is: 0.36477821237203395\n"
     ]
    },
    {
     "data": {
      "image/png": "[encoded data removed]",
      "text/plain": [
       "<Figure size 432x288 with 1 Axes>"
      ]
     },
     "metadata": {
      "needs_background": "light"
     },
     "output_type": "display_data"
    }
   ],
   "source": [
    "northern_x_values = north_hem[\"Lat\"]\n",
    "northern_y_hum = north_hem[\"Humidity\"]\n",
    "\n",
    "\n",
    "(slope, intercept, rvalue, pvalue, stderr) = linregress(northern_x_values, northern_y_hum)\n",
    "regress_values = northern_x_values * slope + intercept\n",
    "line_eq = \"y = \" + str(round(slope,2)) + \"x + \" + str(round(intercept,2))\n",
    "plt.scatter(northern_x_values, northern_y_hum)\n",
    "plt.plot(northern_x_values, regress_values, \"r-\")\n",
    "plt.annotate(line_eq,(40,20),fontsize=15,color=\"red\")\n",
    "plt.xlabel(\"Latitude\")\n",
    "plt.ylabel(\"Humidity\")\n",
    "print(f\"The r-value is: {rvalue}\")\n",
    "plt.show()"
   ]
  },
  {
   "cell_type": "markdown",
   "metadata": {},
   "source": [
    "####  Southern Hemisphere - Humidity (%) vs. Latitude Linear Regression"
   ]
  },
  {
   "cell_type": "code",
   "execution_count": 85,
   "metadata": {},
   "outputs": [
    {
     "name": "stdout",
     "output_type": "stream",
     "text": [
      "The r-value is: -0.01805334768006356\n"
     ]
    },
    {
     "data": {
      "image/png": "[encoded data removed]",
      "text/plain": [
       "<Figure size 432x288 with 1 Axes>"
      ]
     },
     "metadata": {
      "needs_background": "light"
     },
     "output_type": "display_data"
    }
   ],
   "source": [
    "southern_x_values = south_hem[\"Lat\"]\n",
    "southern_y_hum = south_hem[\"Humidity\"]\n",
    "\n",
    "\n",
    "(slope, intercept, rvalue, pvalue, stderr) = linregress(southern_x_values, southern_y_hum)\n",
    "regress_values = southern_x_values * slope + intercept\n",
    "line_eq = \"y = \" + str(round(slope,2)) + \"x + \" + str(round(intercept,2))\n",
    "plt.scatter(southern_x_values, southern_y_hum)\n",
    "plt.plot(southern_x_values, regress_values, \"r-\")\n",
    "plt.annotate(line_eq,(-60,20),fontsize=15,color=\"red\")\n",
    "plt.xlabel(\"Latitude\")\n",
    "plt.ylabel(\"Humidity\")\n",
    "print(f\"The r-value is: {rvalue}\")\n",
    "plt.show()"
   ]
  },
  {
   "cell_type": "markdown",
   "metadata": {},
   "source": [
    "####  Northern Hemisphere - Cloudiness (%) vs. Latitude Linear Regression"
   ]
  },
  {
   "cell_type": "code",
   "execution_count": 78,
   "metadata": {},
   "outputs": [
    {
     "name": "stdout",
     "output_type": "stream",
     "text": [
      "The r-value is: 0.23196772071138277\n"
     ]
    },
    {
     "data": {
      "image/png": "[encoded data removed]",
      "text/plain": [
       "<Figure size 432x288 with 1 Axes>"
      ]
     },
     "metadata": {
      "needs_background": "light"
     },
     "output_type": "display_data"
    }
   ],
   "source": [
    "northern_x_values = north_hem[\"Lat\"]\n",
    "northern_y_cloud = north_hem[\"Cloudiness\"]\n",
    "\n",
    "\n",
    "(slope, intercept, rvalue, pvalue, stderr) = linregress(northern_x_values, northern_y_cloud)\n",
    "regress_values = northern_x_values * slope + intercept\n",
    "line_eq = \"y = \" + str(round(slope,2)) + \"x + \" + str(round(intercept,2))\n",
    "plt.scatter(northern_x_values, northern_y_cloud)\n",
    "plt.plot(northern_x_values, regress_values, \"r-\")\n",
    "plt.annotate(line_eq,(40,10),fontsize=15,color=\"red\")\n",
    "plt.xlabel(\"Latitude\")\n",
    "plt.ylabel(\"Cloudiness\")\n",
    "print(f\"The r-value is: {rvalue}\")\n",
    "plt.show()"
   ]
  },
  {
   "cell_type": "markdown",
   "metadata": {},
   "source": [
    "####  Southern Hemisphere - Cloudiness (%) vs. Latitude Linear Regression"
   ]
  },
  {
   "cell_type": "code",
   "execution_count": 84,
   "metadata": {},
   "outputs": [
    {
     "name": "stdout",
     "output_type": "stream",
     "text": [
      "The r-value is: 0.2500462638036571\n"
     ]
    },
    {
     "data": {
      "image/png": "[encoded data removed]",
      "text/plain": [
       "<Figure size 432x288 with 1 Axes>"
      ]
     },
     "metadata": {
      "needs_background": "light"
     },
     "output_type": "display_data"
    }
   ],
   "source": [
    "southern_x_values = south_hem[\"Lat\"]\n",
    "southern_y_cloud = south_hem[\"Cloudiness\"]\n",
    "\n",
    "\n",
    "(slope, intercept, rvalue, pvalue, stderr) = linregress(southern_x_values, southern_y_cloud)\n",
    "regress_values = southern_x_values * slope + intercept\n",
    "line_eq = \"y = \" + str(round(slope,2)) + \"x + \" + str(round(intercept,2))\n",
    "plt.scatter(southern_x_values, southern_y_cloud)\n",
    "plt.plot(southern_x_values, regress_values, \"r-\")\n",
    "plt.annotate(line_eq,(20,50),fontsize=15,color=\"red\")\n",
    "plt.xlabel(\"Latitude\")\n",
    "plt.ylabel(\"Cloudiness\")\n",
    "print(f\"The r-value is: {rvalue}\")\n",
    "plt.show()"
   ]
  },
  {
   "cell_type": "markdown",
   "metadata": {},
   "source": [
    "####  Northern Hemisphere - Wind Speed (mph) vs. Latitude Linear Regression"
   ]
  },
  {
   "cell_type": "code",
   "execution_count": 88,
   "metadata": {},
   "outputs": [
    {
     "name": "stdout",
     "output_type": "stream",
     "text": [
      "The r-value is: 0.08655401187501509\n"
     ]
    },
    {
     "data": {
      "image/png": "[encoded data removed]",
      "text/plain": [
       "<Figure size 432x288 with 1 Axes>"
      ]
     },
     "metadata": {
      "needs_background": "light"
     },
     "output_type": "display_data"
    }
   ],
   "source": [
    "northern_x_values = north_hem[\"Lat\"]\n",
    "northern_y_wind = north_hem[\"Wind Speed\"]\n",
    "\n",
    "\n",
    "(slope, intercept, rvalue, pvalue, stderr) = linregress(northern_x_values, northern_y_wind)\n",
    "regress_values = northern_x_values * slope + intercept\n",
    "line_eq = \"y = \" + str(round(slope,2)) + \"x + \" + str(round(intercept,2))\n",
    "plt.scatter(northern_x_values, northern_y_wind)\n",
    "plt.plot(northern_x_values, regress_values, \"r-\")\n",
    "plt.annotate(line_eq,(5,30),fontsize=15,color=\"red\")\n",
    "plt.xlabel(\"Latitude\")\n",
    "plt.ylabel(\"Wind Speed\")\n",
    "print(f\"The r-value is: {rvalue}\")\n",
    "plt.show()"
   ]
  },
  {
   "cell_type": "markdown",
   "metadata": {},
   "source": [
    "####  Southern Hemisphere - Wind Speed (mph) vs. Latitude Linear Regression"
   ]
  },
  {
   "cell_type": "code",
   "execution_count": 90,
   "metadata": {},
   "outputs": [
    {
     "name": "stdout",
     "output_type": "stream",
     "text": [
      "The r-value is: 0.2350237329896738\n"
     ]
    },
    {
     "data": {
      "image/png": "[encoded data removed]",
      "text/plain": [
       "<Figure size 432x288 with 1 Axes>"
      ]
     },
     "metadata": {
      "needs_background": "light"
     },
     "output_type": "display_data"
    }
   ],
   "source": [
    "southern_x_values = south_hem[\"Lat\"]\n",
    "southern_y_wind = south_hem[\"Wind Speed\"]\n",
    "\n",
    "\n",
    "(slope, intercept, rvalue, pvalue, stderr) = linregress(southern_x_values, southern_y_wind)\n",
    "regress_values = southern_x_values * slope + intercept\n",
    "line_eq = \"y = \" + str(round(slope,2)) + \"x + \" + str(round(intercept,2))\n",
    "plt.scatter(southern_x_values, southern_y_wind)\n",
    "plt.plot(southern_x_values, regress_values, \"r-\")\n",
    "plt.annotate(line_eq,(-50,30),fontsize=15,color=\"red\")\n",
    "plt.xlabel(\"Latitude\")\n",
    "plt.ylabel(\"Wind Speed\")\n",
    "print(f\"The r-value is: {rvalue}\")\n",
    "plt.show()"
   ]
  },
  {
   "cell_type": "code",
   "execution_count": null,
   "metadata": {},
   "outputs": [],
   "source": []
  }
 ],
 "metadata": {
  "anaconda-cloud": {},
  "kernel_info": {
   "name": "python3"
  },
  "kernelspec": {
   "display_name": "Python 3",
   "language": "python",
   "name": "python3"
  },
  "language_info": {
   "codemirror_mode": {
    "name": "ipython",
    "version": 3
   },
   "file_extension": ".py",
   "mimetype": "text/x-python",
   "name": "python",
   "nbconvert_exporter": "python",
   "pygments_lexer": "ipython3",
   "version": "3.6.10"
  },
  "latex_envs": {
   "LaTeX_envs_menu_present": true,
   "autoclose": false,
   "autocomplete": true,
   "bibliofile": "biblio.bib",
   "cite_by": "apalike",
   "current_citInitial": 1,
   "eqLabelWithNumbers": true,
   "eqNumInitial": 1,
   "hotkeys": {
    "equation": "Ctrl-E",
    "itemize": "Ctrl-I"
   },
   "labels_anchors": false,
   "latex_user_defs": false,
   "report_style_numbering": false,
   "user_envs_cfg": false
  },
  "nteract": {
   "version": "0.12.3"
  }
 },
 "nbformat": 4,
 "nbformat_minor": 2
}
